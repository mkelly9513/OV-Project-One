{
 "cells": [
  {
   "cell_type": "code",
   "execution_count": null,
   "metadata": {},
   "outputs": [],
   "source": [
    "import numpy as np\n",
    "import pandas as pd\n",
    "import os\n",
    "import glob\n",
    "import seaborn as sns\n",
    "import matplotlib\n",
    "from collections import Counter"
   ]
  },
  {
   "cell_type": "markdown",
   "metadata": {},
   "source": [
    "Read in Data"
   ]
  },
  {
   "cell_type": "code",
   "execution_count": null,
   "metadata": {},
   "outputs": [],
   "source": [
    "OVCAR_dt=pd.read_csv(\"DESEQ_Normalized_Output_dt_nonzero_genes.tsv\", sep=\"\\t\",header = 0)\n",
    "OVCAR_dt[:10]"
   ]
  },
  {
   "cell_type": "markdown",
   "metadata": {},
   "source": [
    "Process the data to define the mean of every gene and quartile infortmation"
   ]
  },
  {
   "cell_type": "code",
   "execution_count": null,
   "metadata": {},
   "outputs": [],
   "source": [
    "samplenames = []\n",
    "for val in OVCAR_dt.columns:\n",
    "    if val[0:3] == 'OVC':\n",
    "        samplenames.append(val)\n",
    "samplenames[:10]"
   ]
  },
  {
   "cell_type": "code",
   "execution_count": null,
   "metadata": {},
   "outputs": [],
   "source": [
    "OVCAR_nozero = np.array(OVCAR_dt)"
   ]
  },
  {
   "cell_type": "code",
   "execution_count": null,
   "metadata": {},
   "outputs": [],
   "source": [
    "genemean = []\n",
    "for row in OVCAR_nozero[:,1:95]:\n",
    "    means = np.mean(row)\n",
    "    genemean.append(means)\n",
    "OVCAR_dt['Gene_Mean'] = genemean"
   ]
  },
  {
   "cell_type": "code",
   "execution_count": null,
   "metadata": {},
   "outputs": [],
   "source": [
    "lowerthreshold_TQN = []\n",
    "upperthreshold_TQN = []\n",
    "for row in OVCAR_nozero[:,1:95]:\n",
    "    lowq = np.percentile(row,25)\n",
    "    upq = np.percentile(row,75)\n",
    "    IQR = upq - lowq\n",
    "    lowthresh = lowq - (1.5 * IQR)\n",
    "    upperthresh = upq + (1.5 * IQR)\n",
    "    lowerthreshold_TQN.append(lowthresh)\n",
    "    upperthreshold_TQN.append(upperthresh)\n",
    "    \n",
    "    \n",
    "OVCAR_dt['LowerThreshold'] = lowerthreshold_TQN\n",
    "OVCAR_dt['UpperThreshold'] = upperthreshold_TQN\n",
    "\n",
    "OVCAR_dt[:10]"
   ]
  },
  {
   "cell_type": "markdown",
   "metadata": {},
   "source": [
    "Rank all genes by thier mean expression across the entire cohort; from highest to lowest expression (Rank 1 = highest expression)"
   ]
  },
  {
   "cell_type": "code",
   "execution_count": null,
   "metadata": {},
   "outputs": [],
   "source": [
    "OVCAR_dt['Rank'] = OVCAR_dt['Gene_Mean'].rank(method = 'average', ascending = False)\n",
    "\n",
    "OVCAR_dt[:10]"
   ]
  },
  {
   "cell_type": "code",
   "execution_count": null,
   "metadata": {},
   "outputs": [],
   "source": [
    "ranknames = []\n",
    "for val in samplenames:\n",
    "    name = val + '_rank'\n",
    "    ranknames.append(name)\n",
    "    OVCAR_dt[name] = OVCAR_dt[val].rank(method = 'average', ascending = False)\n",
    "OVCAR_dt[:10]"
   ]
  },
  {
   "cell_type": "markdown",
   "metadata": {},
   "source": [
    "Determine the change in rank value for every gene in every sample"
   ]
  },
  {
   "cell_type": "code",
   "execution_count": null,
   "metadata": {},
   "outputs": [],
   "source": [
    "DevNames = []\n",
    "Deviation_in_Rank = []\n",
    "for val in ranknames:\n",
    "    geneset = [val]\n",
    "    newname = val+'_deviation_in_rank'\n",
    "    DevNames.append(newname)\n",
    "    for i in range(len(OVCAR_dt[val])):\n",
    "        rank = OVCAR_dt[val][i]\n",
    "        sample = val\n",
    "        #median = DESEQ_dt['Median'][i]\n",
    "        true_rank = OVCAR_dt['Rank'][i]\n",
    "        gene = OVCAR_dt['Gene'][i]\n",
    "        #genechrom = DESEQ_dt['Chromosomes'][i]\n",
    "        rank_dif = true_rank - rank\n",
    "        #OVCAR_dt[newname][i] = true_rank\n",
    "        Deviation_in_Rank.append([sample, gene, rank_dif])\n",
    "    "
   ]
  },
  {
   "cell_type": "code",
   "execution_count": null,
   "metadata": {},
   "outputs": [],
   "source": [
    "for val in DevNames:\n",
    "    set_of_values = []\n",
    "    for i in range(len(Deviation_in_Rank)):\n",
    "        name = val.split('_')[:3]\n",
    "        name2 = Deviation_in_Rank[i][0].split('_')[:3]\n",
    "        vals = Deviation_in_Rank[i][2]\n",
    "        if name == name2:\n",
    "            set_of_values.append(vals)\n",
    "    OVCAR_dt[val] = set_of_values\n",
    "OVCAR_dt[:10]"
   ]
  },
  {
   "cell_type": "markdown",
   "metadata": {},
   "source": [
    "Establish Negative Controls"
   ]
  },
  {
   "cell_type": "code",
   "execution_count": null,
   "metadata": {},
   "outputs": [],
   "source": [
    "ControlNames = ['OVCAR3_H10_DORM_1_no_chro_rank_deviation_in_rank','OVCAR3_G11_SCRAMBLE_1_no_chro_rank_deviation_in_rank']"
   ]
  },
  {
   "cell_type": "code",
   "execution_count": null,
   "metadata": {},
   "outputs": [],
   "source": [
    "Dev_values_control = []\n",
    "maxes = []\n",
    "mins = []\n",
    "for name in ControlNames:\n",
    "    namevals = []\n",
    "    for i in range(len(OVCAR_dt[name])):\n",
    "        Dev_values_control.append(OVCAR_dt[name][i])\n",
    "        namevals.append(OVCAR_dt[name][i])\n",
    "    maxes.append(np.max(namevals))\n",
    "    mins.append(np.min(namevals))\n",
    "Dev_values_control[:3]\n",
    "Dev_values_only = []\n",
    "maxes = []\n",
    "mins = []\n",
    "for name in DevNames:\n",
    "    namevals = []\n",
    "    for i in range(len(OVCAR_dt[name])):\n",
    "        Dev_values_only.append(OVCAR_dt[name][i])\n",
    "        namevals.append(OVCAR_dt[name][i])\n",
    "    maxes.append(np.max(namevals))\n",
    "    mins.append(np.min(namevals))\n",
    "Dev_values_only[:3]\n"
   ]
  },
  {
   "cell_type": "markdown",
   "metadata": {},
   "source": [
    "# FDR Stuff"
   ]
  },
  {
   "cell_type": "code",
   "execution_count": null,
   "metadata": {},
   "outputs": [],
   "source": [
    "#FDR function that accepts lengths of gene lists from normals and non-normals \n",
    "#need to do sample by sample, should be the median of the controls vs the total count \n",
    "def FDR_Calculation(normals,rest):\n",
    "    firstset = np.median(normals)\n",
    "    values = []\n",
    "    boolvals = []\n",
    "    combo_of_vals = []\n",
    "    #when looking for threshold cutoffs \n",
    "    FDR_Threshold_Internal = .05\n",
    "    for i in range(len(rest)):\n",
    "        secondset = rest[i]\n",
    "        value = firstset/secondset\n",
    "        values.append(value)\n",
    "        booleanvalue = value < FDR_Threshold_Internal\n",
    "        boolvals.append(booleanvalue)\n",
    "        combo_of_vals.append([value,booleanvalue])\n",
    "            \n",
    "        \n",
    "        \n",
    "    return(values)\n",
    "\n",
    "def FDR_Calculation_Threshold(normals,rest,thresh):\n",
    "    firstset = np.median(normals)\n",
    "    values = []\n",
    "    boolvals = []\n",
    "    combo_of_vals = []\n",
    "    #when looking for threshold cutoffs \n",
    "    FDR_Threshold_Internal = thresh\n",
    "    for i in range(len(rest)):\n",
    "        name = FDR_Threshold_Up[i][0]\n",
    "        secondset = rest[i]\n",
    "        if secondset == 0:\n",
    "            value = 'NA'\n",
    "            values.append(value)\n",
    "            booleanvalue = 'NA'\n",
    "            boolvals.append(booleanvalue)\n",
    "            combo_of_vals.append([value,booleanvalue,name,i])\n",
    "        elif secondset != 0:\n",
    "            value = firstset/secondset\n",
    "            values.append(value)\n",
    "            booleanvalue = value < FDR_Threshold_Internal\n",
    "            boolvals.append(booleanvalue)\n",
    "            combo_of_vals.append([value,booleanvalue,name,i])\n",
    "            \n",
    "        \n",
    "        \n",
    "    return(combo_of_vals)"
   ]
  },
  {
   "cell_type": "markdown",
   "metadata": {},
   "source": [
    "# Downregualted"
   ]
  },
  {
   "cell_type": "code",
   "execution_count": null,
   "metadata": {},
   "outputs": [],
   "source": [
    "#combo down\n",
    "FDR_Threshold_Up = []\n",
    "for val in DevNames:\n",
    "    geneset = [val]\n",
    "    #chromose = val.split('_')[-1]\n",
    "    for i in range(len(OVCAR_dt[val])):\n",
    "        value = OVCAR_dt[val][i]\n",
    "        #median = DESEQ_dt['Median'][i]\n",
    "        #set threshold \n",
    "        Threshold = -2190\n",
    "        gene = OVCAR_dt['Gene'][i]\n",
    "        #genechrom = DESEQ_dt['Chromosomes'][i]\n",
    "        if value < Threshold :\n",
    "            geneset.append(gene)\n",
    "    FDR_Threshold_Up.append(geneset)\n",
    "\n",
    "norms = []\n",
    "non_norms = []\n",
    "for i in range(len(FDR_Threshold_Up)):\n",
    "    lengths = len(FDR_Threshold_Up[i])-1\n",
    "    if i == 0 or i == 67:\n",
    "        norms.append(lengths)\n",
    "        non_norms.append(lengths)\n",
    "    else:\n",
    "        non_norms.append(lengths)\n",
    "print(np.sum(norms),np.sum(non_norms))\n",
    "\n",
    "\n",
    "\n",
    "\n"
   ]
  },
  {
   "cell_type": "markdown",
   "metadata": {},
   "source": [
    "# Upregulated"
   ]
  },
  {
   "cell_type": "code",
   "execution_count": null,
   "metadata": {},
   "outputs": [],
   "source": [
    "#upregualted\n",
    "FDR_Threshold_Up = []\n",
    "for val in DevNames:\n",
    "    geneset = [val]\n",
    "    #chromose = val.split('_')[-1]\n",
    "    for i in range(len(OVCAR_dt[val])):\n",
    "        value = OVCAR_dt[val][i]\n",
    "        #median = DESEQ_dt['Median'][i]\n",
    "        #set threshold \n",
    "        Threshold = 2200\n",
    "        gene = OVCAR_dt['Gene'][i]\n",
    "        #genechrom = DESEQ_dt['Chromosomes'][i]\n",
    "        if value > Threshold :\n",
    "            geneset.append(gene)\n",
    "    FDR_Threshold_Up.append(geneset)\n",
    "\n",
    "norms = []\n",
    "non_norms = []\n",
    "for i in range(len(FDR_Threshold_Up)):\n",
    "    lengths = len(FDR_Threshold_Up[i])-1\n",
    "    if i == 0 or i == 67:\n",
    "        norms.append(lengths)\n",
    "        non_norms.append(lengths)\n",
    "    else:\n",
    "        non_norms.append(lengths)\n",
    "print(np.sum(norms),np.sum(non_norms))\n",
    "\n",
    "\n",
    "\n"
   ]
  },
  {
   "cell_type": "code",
   "execution_count": null,
   "metadata": {},
   "outputs": [],
   "source": [
    "FDR_RES = FDR_Calculation_Threshold(norms,non_norms,.1)\n",
    "\n",
    "FDR_Passed_Set = []\n",
    "for i in range(len(FDR_RES)):\n",
    "    boolval = FDR_RES[i][1]\n",
    "    if boolval == True:\n",
    "        FDR_Passed_Set.append(FDR_Threshold_Up[i])\n",
    "FDR_Passed_Set_dt = pd.DataFrame(FDR_Passed_Set)\n",
    "FDR_Passed_Set_dt[:10]"
   ]
  },
  {
   "cell_type": "code",
   "execution_count": null,
   "metadata": {},
   "outputs": [],
   "source": [
    "#OVCAR_dt.to_csv('OVCAR3_CRISPRI_SCREEN_DESEQ2_Normalized_with_Rank_and_Rank_Change.tsv', sep='\\t', index= False)"
   ]
  },
  {
   "cell_type": "code",
   "execution_count": null,
   "metadata": {},
   "outputs": [],
   "source": []
  }
 ],
 "metadata": {
  "kernelspec": {
   "display_name": "Python 3",
   "language": "python",
   "name": "python3"
  },
  "language_info": {
   "codemirror_mode": {
    "name": "ipython",
    "version": 3
   },
   "file_extension": ".py",
   "mimetype": "text/x-python",
   "name": "python",
   "nbconvert_exporter": "python",
   "pygments_lexer": "ipython3",
   "version": "3.6.4"
  }
 },
 "nbformat": 4,
 "nbformat_minor": 2
}
