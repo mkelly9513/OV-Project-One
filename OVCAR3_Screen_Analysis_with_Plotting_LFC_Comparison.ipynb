{
 "cells": [
  {
   "cell_type": "code",
   "execution_count": null,
   "metadata": {},
   "outputs": [],
   "source": [
    "import numpy as np\n",
    "import pandas as pd\n",
    "import os\n",
    "import glob\n",
    "import seaborn as sns\n",
    "import matplotlib\n",
    "from collections import Counter\n",
    "import sklearn as skl\n",
    "import sklearn.cluster as skcluster\n",
    "import scipy.stats"
   ]
  },
  {
   "cell_type": "code",
   "execution_count": null,
   "metadata": {},
   "outputs": [],
   "source": [
    "!conda list"
   ]
  },
  {
   "cell_type": "markdown",
   "metadata": {},
   "source": [
    "Read in Data"
   ]
  },
  {
   "cell_type": "code",
   "execution_count": null,
   "metadata": {},
   "outputs": [],
   "source": [
    "OVCAR_dt=pd.read_csv(\"DESEQ_Normalized_Output_dt_nonzero_genes.tsv\", sep=\"\\t\",header = 0)\n",
    "OVCAR_dt[:10]"
   ]
  },
  {
   "cell_type": "markdown",
   "metadata": {},
   "source": [
    "Process the data to define the mean of every gene and quartile information"
   ]
  },
  {
   "cell_type": "code",
   "execution_count": null,
   "metadata": {},
   "outputs": [],
   "source": [
    "samplenames = []\n",
    "for val in OVCAR_dt.columns:\n",
    "    if val[0:3] == 'OVC':\n",
    "        samplenames.append(val)\n",
    "samplenames[:10]"
   ]
  },
  {
   "cell_type": "code",
   "execution_count": null,
   "metadata": {},
   "outputs": [],
   "source": [
    "OVCAR_nozero = np.array(OVCAR_dt)"
   ]
  },
  {
   "cell_type": "code",
   "execution_count": null,
   "metadata": {},
   "outputs": [],
   "source": [
    "genemean = []\n",
    "for row in OVCAR_nozero[:,1:95]:\n",
    "    means = np.mean(row)\n",
    "    genemean.append(means)\n",
    "OVCAR_dt['Gene_Mean'] = genemean"
   ]
  },
  {
   "cell_type": "code",
   "execution_count": null,
   "metadata": {},
   "outputs": [],
   "source": [
    "lowerthreshold_TQN = []\n",
    "upperthreshold_TQN = []\n",
    "for row in OVCAR_nozero[:,1:95]:\n",
    "    lowq = np.percentile(row,25)\n",
    "    upq = np.percentile(row,75)\n",
    "    IQR = upq - lowq\n",
    "    lowthresh = lowq - (1.5 * IQR)\n",
    "    upperthresh = upq + (1.5 * IQR)\n",
    "    lowerthreshold_TQN.append(lowthresh)\n",
    "    upperthreshold_TQN.append(upperthresh)\n",
    "    \n",
    "    \n",
    "OVCAR_dt['LowerThreshold'] = lowerthreshold_TQN\n",
    "OVCAR_dt['UpperThreshold'] = upperthreshold_TQN\n",
    "\n",
    "OVCAR_dt[:10]"
   ]
  },
  {
   "cell_type": "markdown",
   "metadata": {},
   "source": [
    "Rank all genes by thier mean expression across the entire cohort; from highest to lowest expression (Rank 1 = highest expression)"
   ]
  },
  {
   "cell_type": "code",
   "execution_count": null,
   "metadata": {},
   "outputs": [],
   "source": [
    "OVCAR_dt['Rank'] = OVCAR_dt['Gene_Mean'].rank(method = 'average', ascending = False)\n",
    "\n",
    "OVCAR_dt[:10]"
   ]
  },
  {
   "cell_type": "code",
   "execution_count": null,
   "metadata": {},
   "outputs": [],
   "source": [
    "ranknames = []\n",
    "for val in samplenames:\n",
    "    name = val + '_rank'\n",
    "    ranknames.append(name)\n",
    "    OVCAR_dt[name] = OVCAR_dt[val].rank(method = 'average', ascending = False)\n",
    "OVCAR_dt[:10]"
   ]
  },
  {
   "cell_type": "markdown",
   "metadata": {},
   "source": [
    "Determine the change in rank value for every gene in every sample"
   ]
  },
  {
   "cell_type": "code",
   "execution_count": null,
   "metadata": {},
   "outputs": [],
   "source": [
    "DevNames = []\n",
    "Deviation_in_Rank = []\n",
    "for val in ranknames:\n",
    "    geneset = [val]\n",
    "    newname = val+'_deviation_in_rank'\n",
    "    DevNames.append(newname)\n",
    "    for i in range(len(OVCAR_dt[val])):\n",
    "        rank = OVCAR_dt[val][i]\n",
    "        sample = val\n",
    "        #median = DESEQ_dt['Median'][i]\n",
    "        true_rank = OVCAR_dt['Rank'][i]\n",
    "        gene = OVCAR_dt['Gene'][i]\n",
    "        #genechrom = DESEQ_dt['Chromosomes'][i]\n",
    "        rank_dif = true_rank - rank\n",
    "        #OVCAR_dt[newname][i] = true_rank\n",
    "        Deviation_in_Rank.append([sample, gene, rank_dif])\n",
    "    "
   ]
  },
  {
   "cell_type": "code",
   "execution_count": null,
   "metadata": {},
   "outputs": [],
   "source": [
    "for val in DevNames:\n",
    "    set_of_values = []\n",
    "    for i in range(len(Deviation_in_Rank)):\n",
    "        name = val.split('_')[:3]\n",
    "        name2 = Deviation_in_Rank[i][0].split('_')[:3]\n",
    "        vals = Deviation_in_Rank[i][2]\n",
    "        if name == name2:\n",
    "            set_of_values.append(vals)\n",
    "    OVCAR_dt[val] = set_of_values\n",
    "OVCAR_dt[:10]"
   ]
  },
  {
   "cell_type": "markdown",
   "metadata": {},
   "source": [
    "Establish Negative Controls"
   ]
  },
  {
   "cell_type": "code",
   "execution_count": null,
   "metadata": {},
   "outputs": [],
   "source": [
    "ControlNames = ['OVCAR3_H10_DORM_1_no_chro_rank_deviation_in_rank','OVCAR3_G11_SCRAMBLE_1_no_chro_rank_deviation_in_rank']"
   ]
  },
  {
   "cell_type": "code",
   "execution_count": null,
   "metadata": {},
   "outputs": [],
   "source": [
    "Dev_values_control = []\n",
    "maxes = []\n",
    "mins = []\n",
    "for name in ControlNames:\n",
    "    namevals = []\n",
    "    for i in range(len(OVCAR_dt[name])):\n",
    "        Dev_values_control.append(OVCAR_dt[name][i])\n",
    "        namevals.append(OVCAR_dt[name][i])\n",
    "    maxes.append(np.max(namevals))\n",
    "    mins.append(np.min(namevals))\n",
    "Dev_values_control[:3]\n",
    "Dev_values_only = []\n",
    "maxes = []\n",
    "mins = []\n",
    "for name in DevNames:\n",
    "    namevals = []\n",
    "    for i in range(len(OVCAR_dt[name])):\n",
    "        Dev_values_only.append(OVCAR_dt[name][i])\n",
    "        namevals.append(OVCAR_dt[name][i])\n",
    "    maxes.append(np.max(namevals))\n",
    "    mins.append(np.min(namevals))\n",
    "Dev_values_only[:3]\n"
   ]
  },
  {
   "cell_type": "markdown",
   "metadata": {},
   "source": [
    "I can now look at the overall genomic distribution of rank changes"
   ]
  },
  {
   "cell_type": "markdown",
   "metadata": {},
   "source": [
    "# Rank Change Distribution Plot "
   ]
  },
  {
   "cell_type": "code",
   "execution_count": null,
   "metadata": {},
   "outputs": [],
   "source": [
    "matplotlib.pyplot.figure(figsize=(10,10))\n",
    "sns.distplot(Dev_values_only,axlabel= 'Rank Order Changes')\n",
    "#matplotlib.pyplot.savefig('Rank_Order_Distribution.pdf')"
   ]
  },
  {
   "cell_type": "markdown",
   "metadata": {},
   "source": [
    "# FDR Function"
   ]
  },
  {
   "cell_type": "code",
   "execution_count": null,
   "metadata": {},
   "outputs": [],
   "source": [
    "#FDR function that accepts lengths of gene lists from normals and non-normals \n",
    "#need to do sample by sample, should be the median of the controls vs the total count \n",
    "def FDR_Calculation(normals,rest):\n",
    "    firstset = np.median(normals)\n",
    "    values = []\n",
    "    boolvals = []\n",
    "    combo_of_vals = []\n",
    "    #when looking for threshold cutoffs \n",
    "    FDR_Threshold_Internal = .05\n",
    "    for i in range(len(rest)):\n",
    "        secondset = rest[i]\n",
    "        value = firstset/secondset\n",
    "        values.append(value)\n",
    "        booleanvalue = value < FDR_Threshold_Internal\n",
    "        boolvals.append(booleanvalue)\n",
    "        combo_of_vals.append([value,booleanvalue])\n",
    "            \n",
    "        \n",
    "        \n",
    "    return(values)\n",
    "\n",
    "def FDR_Calculation_Threshold(normals,rest,thresh):\n",
    "    firstset = np.median(normals)\n",
    "    values = []\n",
    "    boolvals = []\n",
    "    combo_of_vals = []\n",
    "    #when looking for threshold cutoffs \n",
    "    FDR_Threshold_Internal = thresh\n",
    "    for i in range(len(rest)):\n",
    "        name = FDR_Threshold_Up[i][0]\n",
    "        secondset = rest[i]\n",
    "        if secondset == 0:\n",
    "            value = 'NA'\n",
    "            values.append(value)\n",
    "            booleanvalue = 'NA'\n",
    "            boolvals.append(booleanvalue)\n",
    "            combo_of_vals.append([value,booleanvalue,name,i])\n",
    "        elif secondset != 0:\n",
    "            value = firstset/secondset\n",
    "            values.append(value)\n",
    "            booleanvalue = value < FDR_Threshold_Internal\n",
    "            boolvals.append(booleanvalue)\n",
    "            combo_of_vals.append([value,booleanvalue,name,i])\n",
    "            \n",
    "        \n",
    "        \n",
    "    return(combo_of_vals)"
   ]
  },
  {
   "cell_type": "markdown",
   "metadata": {},
   "source": [
    "Next I can determine the list of genes for each super enhancer at a set FDR threshold, for example at 0.1, this means every sample may have a different 'change in rank' cutoff value but they all will meet the FDR 0.1 cutoff criteria. \n",
    "\n",
    "I can iterate through changes in rank while maintaining a set FDR and keep all SEs and Genes that meet said threshold; I can then remove all duplicate rows based on SE name; keeping the last occurance (the smallest change in rank that met the FDR requirement). These cutoff values are vizualized below."
   ]
  },
  {
   "cell_type": "code",
   "execution_count": null,
   "metadata": {},
   "outputs": [],
   "source": [
    "matplotlib.pyplot.figure(figsize=(10,10))\n",
    "sns.distplot(Dev_values_only,axlabel= 'Rank Order Changes')\n",
    "matplotlib.pyplot.axvline(x=-2190, color='black')\n",
    "matplotlib.pyplot.axvline(x=-2140, color='purple')\n",
    "matplotlib.pyplot.axvline(x=-2100, color='blue')\n",
    "matplotlib.pyplot.axvline(x=-2050, color='teal')\n",
    "matplotlib.pyplot.axvline(x=-2000, color='green')\n",
    "matplotlib.pyplot.axvline(x=-1950, color='cyan')\n",
    "matplotlib.pyplot.axvline(x=-1900, color='yellow')\n",
    "matplotlib.pyplot.axvline(x=-1800, color='red')\n",
    "\n",
    "\n",
    "#we can zoom in using this \n",
    "matplotlib.pyplot.figure(figsize=(10,10))\n",
    "sns.distplot(Dev_values_only,axlabel= 'Rank Order Changes')\n",
    "matplotlib.pyplot.xlim(-2500,0)\n",
    "matplotlib.pyplot.axvline(x=-2190, color='black')\n",
    "matplotlib.pyplot.axvline(x=-2140, color='purple')\n",
    "matplotlib.pyplot.axvline(x=-2100, color='blue')\n",
    "matplotlib.pyplot.axvline(x=-2050, color='teal')\n",
    "matplotlib.pyplot.axvline(x=-2000, color='green')\n",
    "matplotlib.pyplot.axvline(x=-1950, color='cyan')\n",
    "matplotlib.pyplot.axvline(x=-1900, color='yellow')\n",
    "matplotlib.pyplot.axvline(x=-1800, color='red')\n"
   ]
  },
  {
   "cell_type": "markdown",
   "metadata": {},
   "source": [
    "# Downregulated FDR cutoff analysis "
   ]
  },
  {
   "cell_type": "markdown",
   "metadata": {},
   "source": [
    "This iterates through various changes in rank and keeps genes that pass the FDR of 0.1 for each SE"
   ]
  },
  {
   "cell_type": "code",
   "execution_count": null,
   "metadata": {},
   "outputs": [],
   "source": [
    "Overall_FDR_Passed_Sets = []\n",
    "for thresh in [-2190,-2140,-2100,-2050,-2000,-1950,-1900,-1800]:\n",
    "    FDR_Threshold_Up = []\n",
    "    for val in DevNames:\n",
    "        geneset = [val]\n",
    "        #chromose = val.split('_')[-1]\n",
    "        for i in range(len(OVCAR_dt[val])):\n",
    "            value = OVCAR_dt[val][i]\n",
    "            #median = DESEQ_dt['Median'][i]\n",
    "            #set threshold \n",
    "            Threshold = thresh\n",
    "            gene = OVCAR_dt['Gene'][i]\n",
    "            #genechrom = DESEQ_dt['Chromosomes'][i]\n",
    "            if value < Threshold :\n",
    "                geneset.append(gene)\n",
    "        FDR_Threshold_Up.append(geneset)\n",
    "\n",
    "    norms = []\n",
    "    non_norms = []\n",
    "    for i in range(len(FDR_Threshold_Up)):\n",
    "        lengths = len(FDR_Threshold_Up[i])-1\n",
    "        if i == 0 or i == 67:\n",
    "            norms.append(lengths)\n",
    "            non_norms.append(lengths)\n",
    "        else:\n",
    "            non_norms.append(lengths)\n",
    "    print(np.sum(norms),np.sum(non_norms))\n",
    "\n",
    "    FDR_RES = FDR_Calculation_Threshold(norms,non_norms,.1)\n",
    "    FDR_Passed_Set = []\n",
    "    for i in range(len(FDR_RES)):\n",
    "        boolval = FDR_RES[i][1]\n",
    "        if boolval == True:\n",
    "            FDR_Passed_Set.append(FDR_Threshold_Up[i])\n",
    "    #FDR_Passed_Set_dt = pd.DataFrame(FDR_Passed_Set)\n",
    "    \n",
    "    for i in range(len(FDR_Passed_Set)):\n",
    "        Overall_FDR_Passed_Sets.append(FDR_Passed_Set[i])"
   ]
  },
  {
   "cell_type": "markdown",
   "metadata": {},
   "source": [
    "I can then save these outputs in a few different variables and look at them"
   ]
  },
  {
   "cell_type": "code",
   "execution_count": null,
   "metadata": {},
   "outputs": [],
   "source": [
    "Overall_FDR_Passed_Sets_dt = pd.DataFrame(Overall_FDR_Passed_Sets)\n",
    "Overall_FDR_Passed_Sets_dt[:10]"
   ]
  },
  {
   "cell_type": "code",
   "execution_count": null,
   "metadata": {
    "scrolled": true
   },
   "outputs": [],
   "source": [
    "Overall_FDR_Passed_Sets_dt=Overall_FDR_Passed_Sets_dt.drop_duplicates(subset=0, keep = 'last')\n",
    "Overall_FDR_Passed_Sets_dt=Overall_FDR_Passed_Sets_dt.reset_index(drop='True')\n",
    "Overall_FDR_Passed_Sets_dt[:10]"
   ]
  },
  {
   "cell_type": "code",
   "execution_count": null,
   "metadata": {},
   "outputs": [],
   "source": [
    "OVT = np.array(Overall_FDR_Passed_Sets_dt)\n",
    "OVTT = []\n",
    "for row in OVT:\n",
    "    res = list(filter(None, row))\n",
    "    OVTT.append(res)\n",
    "OVTT[:10]"
   ]
  },
  {
   "cell_type": "markdown",
   "metadata": {},
   "source": [
    "I ran this to save the downregulated genes as an output file for later needs"
   ]
  },
  {
   "cell_type": "code",
   "execution_count": null,
   "metadata": {},
   "outputs": [],
   "source": [
    "#Overall_FDR_Passed_Sets_dt.to_csv('OVCAR3_CRISPRI_SCREEN_FDR0.1_SEs_and_Genes.tsv', sep='\\t', index= False)"
   ]
  },
  {
   "cell_type": "markdown",
   "metadata": {},
   "source": [
    "I then repeat this for the upranked genes"
   ]
  },
  {
   "cell_type": "code",
   "execution_count": null,
   "metadata": {},
   "outputs": [],
   "source": [
    "matplotlib.pyplot.figure(figsize=(10,10))\n",
    "sns.distplot(Dev_values_only,axlabel= 'Rank Order Changes')\n",
    "matplotlib.pyplot.axvline(x=2190, color='black')\n",
    "matplotlib.pyplot.axvline(x=2140, color='purple')\n",
    "matplotlib.pyplot.axvline(x=2100, color='blue')\n",
    "matplotlib.pyplot.axvline(x=2050, color='teal')\n",
    "matplotlib.pyplot.axvline(x=2000, color='green')\n",
    "matplotlib.pyplot.axvline(x=1950, color='cyan')\n",
    "matplotlib.pyplot.axvline(x=1900, color='yellow')\n",
    "\n",
    "\n",
    "#we can zoom in using this \n",
    "matplotlib.pyplot.figure(figsize=(10,10))\n",
    "sns.distplot(Dev_values_only,axlabel= 'Rank Order Changes')\n",
    "matplotlib.pyplot.xlim(0,2500)\n",
    "matplotlib.pyplot.axvline(x=2190, color='black')\n",
    "matplotlib.pyplot.axvline(x=2140, color='purple')\n",
    "matplotlib.pyplot.axvline(x=2100, color='blue')\n",
    "matplotlib.pyplot.axvline(x=2050, color='teal')\n",
    "matplotlib.pyplot.axvline(x=2000, color='green')\n",
    "matplotlib.pyplot.axvline(x=1950, color='cyan')\n",
    "matplotlib.pyplot.axvline(x=1900, color='yellow')"
   ]
  },
  {
   "cell_type": "markdown",
   "metadata": {},
   "source": [
    "# Upregulated FDR cutoff analysis "
   ]
  },
  {
   "cell_type": "code",
   "execution_count": null,
   "metadata": {},
   "outputs": [],
   "source": [
    "Overall_Up_FDR_Passed_Sets = []\n",
    "for thresh in [2190,2140,2100,2050,2000,1950,1900]:\n",
    "    FDR_Threshold_Up = []\n",
    "    for val in DevNames:\n",
    "        geneset = [val]\n",
    "        #chromose = val.split('_')[-1]\n",
    "        for i in range(len(OVCAR_dt[val])):\n",
    "            value = OVCAR_dt[val][i]\n",
    "            #median = DESEQ_dt['Median'][i]\n",
    "            #set threshold \n",
    "            Threshold = thresh\n",
    "            gene = OVCAR_dt['Gene'][i]\n",
    "            #genechrom = DESEQ_dt['Chromosomes'][i]\n",
    "            if value > Threshold :\n",
    "                geneset.append(gene)\n",
    "        FDR_Threshold_Up.append(geneset)\n",
    "\n",
    "    norms = []\n",
    "    non_norms = []\n",
    "    for i in range(len(FDR_Threshold_Up)):\n",
    "        lengths = len(FDR_Threshold_Up[i])-1\n",
    "        if i == 0 or i == 67:\n",
    "            norms.append(lengths)\n",
    "            non_norms.append(lengths)\n",
    "        else:\n",
    "            non_norms.append(lengths)\n",
    "    print(np.sum(norms),np.sum(non_norms))\n",
    "\n",
    "    FDR_RES = FDR_Calculation_Threshold(norms,non_norms,.1)\n",
    "    FDR_Passed_Set = []\n",
    "    for i in range(len(FDR_RES)):\n",
    "        boolval = FDR_RES[i][1]\n",
    "        if boolval == True:\n",
    "            FDR_Passed_Set.append(FDR_Threshold_Up[i])\n",
    "    #FDR_Passed_Set_dt = pd.DataFrame(FDR_Passed_Set)\n",
    "    \n",
    "    for i in range(len(FDR_Passed_Set)):\n",
    "        Overall_Up_FDR_Passed_Sets.append(FDR_Passed_Set[i])"
   ]
  },
  {
   "cell_type": "code",
   "execution_count": null,
   "metadata": {},
   "outputs": [],
   "source": [
    "Overall_Up_FDR_Passed_Sets_dt = pd.DataFrame(Overall_Up_FDR_Passed_Sets)\n",
    "Overall_Up_FDR_Passed_Sets_dt[:10]"
   ]
  },
  {
   "cell_type": "code",
   "execution_count": null,
   "metadata": {},
   "outputs": [],
   "source": [
    "Overall_Up_FDR_Passed_Sets_dt=Overall_Up_FDR_Passed_Sets_dt.drop_duplicates(subset=0, keep = 'last')\n",
    "Overall_Up_FDR_Passed_Sets_dt=Overall_Up_FDR_Passed_Sets_dt.reset_index(drop='True')\n",
    "Overall_Up_FDR_Passed_Sets_dt"
   ]
  },
  {
   "cell_type": "code",
   "execution_count": null,
   "metadata": {},
   "outputs": [],
   "source": [
    "#Overall_Up_FDR_Passed_Sets_dt.to_csv('OVCAR3_CRISPRI_SCREEN_FDR0.1_SEs_and_Genes_UP.tsv', sep='\\t', index= False)"
   ]
  },
  {
   "cell_type": "code",
   "execution_count": null,
   "metadata": {},
   "outputs": [],
   "source": [
    "#upgenes =Overall_Up_FDR_Passed_Sets_dt[Overall_Up_FDR_Passed_Sets_dt[0] == 'OVCAR3_A3_60_chr20_rank_deviation_in_rank']\n",
    "#upgenes"
   ]
  },
  {
   "cell_type": "markdown",
   "metadata": {},
   "source": [
    "# Investigating all FDR .1 Up and Down Rank SEs and Genes "
   ]
  },
  {
   "cell_type": "markdown",
   "metadata": {},
   "source": [
    "First we create gene groups up and down"
   ]
  },
  {
   "cell_type": "code",
   "execution_count": null,
   "metadata": {},
   "outputs": [],
   "source": [
    "genesetforclust = []\n",
    "for i in range(len(Overall_FDR_Passed_Sets)):\n",
    "    for j in range(len(Overall_FDR_Passed_Sets[i])):\n",
    "        if j > 0:\n",
    "            genesetforclust.append(Overall_FDR_Passed_Sets[i][j])\n",
    "genesetdownarray = np.unique(genesetforclust)"
   ]
  },
  {
   "cell_type": "code",
   "execution_count": null,
   "metadata": {},
   "outputs": [],
   "source": [
    "genesetforclustup = []\n",
    "for i in range(len(Overall_Up_FDR_Passed_Sets)):\n",
    "    for j in range(len(Overall_Up_FDR_Passed_Sets[i])):\n",
    "        if j > 0:\n",
    "            genesetforclustup.append(Overall_Up_FDR_Passed_Sets[i][j])\n",
    "genesetuparray = np.unique(genesetforclustup)"
   ]
  },
  {
   "cell_type": "code",
   "execution_count": null,
   "metadata": {},
   "outputs": [],
   "source": [
    "nwsetsarrayupdown = np.concatenate((genesetdownarray, genesetuparray), axis=0)\n",
    "nwsetsarrayupdown[:10]"
   ]
  },
  {
   "cell_type": "markdown",
   "metadata": {},
   "source": [
    "Make a DT for all genes that are in the updown group"
   ]
  },
  {
   "cell_type": "code",
   "execution_count": null,
   "metadata": {},
   "outputs": [],
   "source": [
    "NEWDT = OVCAR_dt.loc[OVCAR_dt['Gene'].isin(nwsetsarrayupdown)]"
   ]
  },
  {
   "cell_type": "code",
   "execution_count": null,
   "metadata": {},
   "outputs": [],
   "source": [
    "rnkanmescols = OVCAR_dt.columns[95:]\n",
    "rnkanmescols[:10]"
   ]
  },
  {
   "cell_type": "code",
   "execution_count": null,
   "metadata": {},
   "outputs": [],
   "source": [
    "rankcolnames = []\n",
    "for row in OVCAR_dt.columns[1:194]:\n",
    "    rankcolnames.append(row)"
   ]
  },
  {
   "cell_type": "markdown",
   "metadata": {},
   "source": [
    "Retrieve all Ranks for the full dataset"
   ]
  },
  {
   "cell_type": "code",
   "execution_count": null,
   "metadata": {},
   "outputs": [],
   "source": [
    "Rank_DESEQ_DT = OVCAR_dt.drop(rankcolnames,axis=1)\n",
    "Rank_DESEQ_DT[:10]"
   ]
  },
  {
   "cell_type": "code",
   "execution_count": null,
   "metadata": {},
   "outputs": [],
   "source": [
    "Rank_DESEQ_DT.shape"
   ]
  },
  {
   "cell_type": "code",
   "execution_count": null,
   "metadata": {},
   "outputs": [],
   "source": [
    "rank_cols_names_for_ind = Rank_DESEQ_DT.pivot_table(index='Gene').columns\n",
    "rank_cols_names_for_ind[:10]"
   ]
  },
  {
   "cell_type": "code",
   "execution_count": null,
   "metadata": {},
   "outputs": [],
   "source": [
    "#Take only significant genes and rank changes "
   ]
  },
  {
   "cell_type": "markdown",
   "metadata": {},
   "source": [
    "This will make the DT just for the significant regions from the analysis "
   ]
  },
  {
   "cell_type": "code",
   "execution_count": null,
   "metadata": {},
   "outputs": [],
   "source": [
    "NEWDT_Rank = Rank_DESEQ_DT.loc[Rank_DESEQ_DT['Gene'].isin(nwsetsarrayupdown)]\n",
    "NEWDT_Rank=NEWDT_Rank.reset_index(drop='True')\n",
    "NEWDT_Rank.shape"
   ]
  },
  {
   "cell_type": "code",
   "execution_count": null,
   "metadata": {},
   "outputs": [],
   "source": [
    "#NEWDT_Rank.to_csv('OVCAR3_CRISPRI_SCREEN_DESEQ2_Normalized_FDR.1SigRankChangeGenes.tsv', sep='\\t', index= False)"
   ]
  },
  {
   "cell_type": "markdown",
   "metadata": {},
   "source": [
    "If reading in this will make the same DT"
   ]
  },
  {
   "cell_type": "code",
   "execution_count": null,
   "metadata": {},
   "outputs": [],
   "source": [
    "#NEWDT_Rank = pd.DataFrame.from_csv('OVCAR3_CRISPRI_SCREEN_DESEQ2_Normalized_FDR.1SigRankChangeGenes.tsv', sep = '\\t')"
   ]
  },
  {
   "cell_type": "code",
   "execution_count": null,
   "metadata": {},
   "outputs": [],
   "source": [
    "NEWDT_Rank.shape"
   ]
  },
  {
   "cell_type": "code",
   "execution_count": null,
   "metadata": {},
   "outputs": [],
   "source": [
    "rank_cols_names_for_ind = NEWDT_Rank.pivot_table(index='Gene').columns\n",
    "rank_cols_names_for_ind[:10]"
   ]
  },
  {
   "cell_type": "markdown",
   "metadata": {},
   "source": [
    "## Full Datset of Genes "
   ]
  },
  {
   "cell_type": "markdown",
   "metadata": {},
   "source": [
    "First I need to determine the min rank as the clustering algorithm requires non-negative numbers, I will adjust all changes in rank by this value, then use a scaler to shrink them. The clustering will be done on both rows and columns and the gene changes in rank will be Z scored. This clustering and heatmap will look at the entire dataset of Genes and SEs. "
   ]
  },
  {
   "cell_type": "code",
   "execution_count": null,
   "metadata": {},
   "outputs": [],
   "source": [
    "maxes_of_ranks = []\n",
    "for i in range(len(NEWDT_Rank.pivot_table(index='Gene').columns)):\n",
    "    curcol = rank_cols_names_for_ind[i]\n",
    "    maxes_of_ranks.append(np.min(NEWDT_Rank.pivot_table(index='Gene')[curcol]))\n",
    "np.min(maxes_of_ranks)"
   ]
  },
  {
   "cell_type": "code",
   "execution_count": null,
   "metadata": {},
   "outputs": [],
   "source": [
    "Rank_DESEQ_DT_Pivot=Rank_DESEQ_DT.pivot_table(index='Gene')"
   ]
  },
  {
   "cell_type": "code",
   "execution_count": null,
   "metadata": {},
   "outputs": [],
   "source": [
    "for i in range(len(Rank_DESEQ_DT.pivot_table(index='Gene').columns)):\n",
    "    curcol = rank_cols_names_for_ind[i]\n",
    "    for j in range(len(Rank_DESEQ_DT_Pivot['OVCAR3_A10_87_chr6_rank_deviation_in_rank'])):\n",
    "                       Rank_DESEQ_DT_Pivot[curcol][j] = Rank_DESEQ_DT_Pivot[curcol][j]+4322\n",
    "\n",
    "for i in range(len(Rank_DESEQ_DT.pivot_table(index='Gene').columns)):\n",
    "    curcol = rank_cols_names_for_ind[i]\n",
    "    for j in range(len(Rank_DESEQ_DT_Pivot['OVCAR3_A10_87_chr6_rank_deviation_in_rank'])):\n",
    "                       Rank_DESEQ_DT_Pivot[curcol][j] = Rank_DESEQ_DT_Pivot[curcol][j]/1000\n"
   ]
  },
  {
   "cell_type": "code",
   "execution_count": null,
   "metadata": {},
   "outputs": [],
   "source": [
    "mapoclutrank =sns.clustermap(Rank_DESEQ_DT_Pivot,cmap='RdBu_r',robust=True,z_score=0, row_cluster=True,col_cluster=True,xticklabels = True,figsize=(20,10))\n",
    "matplotlib.pyplot.xticks(rotation=30)\n",
    "#matplotlib.pyplot.savefig('Rank_Heatmap_Wholeset.pdf', bbox_inches = 'tight')\n",
    "matplotlib.pyplot.show()\n"
   ]
  },
  {
   "cell_type": "markdown",
   "metadata": {},
   "source": [
    "## FDR Detected SEs and Genes"
   ]
  },
  {
   "cell_type": "markdown",
   "metadata": {},
   "source": [
    "First I need to determine the min rank as the clustering algorithm requires non-negative numbers, I will adjust all changes in rank by this value, then use a scaler to shrink them. The clustering will be done on both rows and columns and the gene changes in rank will be Z scored. This clustering and heatmap will look at a subset of Genes and SEs, those that passed the .1 FDR threshold for increase or decreased rank. "
   ]
  },
  {
   "cell_type": "code",
   "execution_count": null,
   "metadata": {},
   "outputs": [],
   "source": [
    "NEWDT_Pivot=NEWDT_Rank.pivot_table(index='Gene')\n",
    "\n",
    "for i in range(len(NEWDT_Pivot.pivot_table(index='Gene').columns)):\n",
    "    curcol = rank_cols_names_for_ind[i]\n",
    "    for j in range(len(NEWDT_Pivot['OVCAR3_A10_87_chr6_rank_deviation_in_rank'])):\n",
    "                       NEWDT_Pivot[curcol][j] = NEWDT_Pivot[curcol][j]+4322\n",
    "            \n",
    "for i in range(len(NEWDT_Pivot.pivot_table(index='Gene').columns)):\n",
    "    curcol = rank_cols_names_for_ind[i]\n",
    "    for j in range(len(NEWDT_Pivot['OVCAR3_A10_87_chr6_rank_deviation_in_rank'])):\n",
    "                       NEWDT_Pivot[curcol][j] = NEWDT_Pivot[curcol][j]/1000\n",
    "NEWDT_Pivot[:10]"
   ]
  },
  {
   "cell_type": "code",
   "execution_count": null,
   "metadata": {},
   "outputs": [],
   "source": [
    "zscoredata=scipy.stats.zscore(NEWDT_Pivot,axis=0)\n",
    "zscoredata"
   ]
  },
  {
   "cell_type": "code",
   "execution_count": null,
   "metadata": {},
   "outputs": [],
   "source": [
    "zdf = pd.DataFrame(zscoredata)\n",
    "zdf.columns = NEWDT_Pivot.columns\n",
    "zdf.index = NEWDT_Pivot.index\n",
    "zdf"
   ]
  },
  {
   "cell_type": "code",
   "execution_count": null,
   "metadata": {},
   "outputs": [],
   "source": [
    "Ks = range(1, 10)\n",
    "km = [skcluster.KMeans(n_clusters=i) for i in Ks]\n",
    "score = [km[i].fit(zdf).score(zdf) for i in range(len(km))]"
   ]
  },
  {
   "cell_type": "code",
   "execution_count": null,
   "metadata": {},
   "outputs": [],
   "source": [
    "matplotlib.pyplot.plot(Ks,score)\n",
    "#matplotlib.pyplot.savefig('Kmeans_Elbow_plot.pdf')"
   ]
  },
  {
   "cell_type": "code",
   "execution_count": null,
   "metadata": {},
   "outputs": [],
   "source": [
    "#km=skcluster.KMeans(n_clusters=3).fit(NEWDT_Pivot)\n",
    "#cluster_map_df = pd.DataFrame()\n",
    "#cluster_map_df['data_index'] = NEWDT_Pivot.index.values\n",
    "#cluster_map_df['cluster'] = km.labels_"
   ]
  },
  {
   "cell_type": "code",
   "execution_count": null,
   "metadata": {},
   "outputs": [],
   "source": [
    "N = 3\n",
    "km=skcluster.KMeans(n_clusters=N,n_init=50,max_iter=500,random_state=0).fit(zdf)\n",
    "cluster_map_df = pd.DataFrame()\n",
    "cluster_map_df['data_index'] = zdf.index.values\n",
    "cluster_map_df['cluster'] = km.labels_\n",
    "for i in range(0,N):\n",
    "    idx=cluster_map_df['data_index'][cluster_map_df.cluster == i]\n",
    "    idxgenes = []\n",
    "    for row in idx:\n",
    "        idxgenes.append(row)\n",
    "    idxgenes[:10]\n",
    "    Cluster0=zdf.loc[zdf.index.isin(idxgenes)]\n",
    "    print(np.mean(Cluster0['OVCAR3_A3_60_chr20_rank_deviation_in_rank']),len(idxgenes))"
   ]
  },
  {
   "cell_type": "code",
   "execution_count": null,
   "metadata": {},
   "outputs": [],
   "source": [
    "km=skcluster.KMeans(n_clusters=N,n_init=50,max_iter=500,random_state=0).fit(zdf)\n",
    "cluster_map_df = pd.DataFrame()\n",
    "cluster_map_df['data_index'] = zdf.index.values\n",
    "cluster_map_df['cluster'] = km.labels_"
   ]
  },
  {
   "cell_type": "code",
   "execution_count": null,
   "metadata": {},
   "outputs": [],
   "source": [
    "idx=cluster_map_df['data_index'][cluster_map_df.cluster == 0]\n",
    "idxgenes = []\n",
    "for row in idx:\n",
    "    idxgenes.append(row)\n",
    "idxgenes[:10]\n",
    "Cluster0=zdf.loc[zdf.index.isin(idxgenes)]\n",
    "print(np.mean(Cluster0['OVCAR3_A3_60_chr20_rank_deviation_in_rank']))\n",
    "\n",
    "idx=cluster_map_df['data_index'][cluster_map_df.cluster == 1]\n",
    "idxgenes = []\n",
    "for row in idx:\n",
    "    idxgenes.append(row)\n",
    "idxgenes[:10]\n",
    "Cluster1=zdf.loc[zdf.index.isin(idxgenes)]\n",
    "print(np.mean(Cluster1['OVCAR3_A3_60_chr20_rank_deviation_in_rank']))\n",
    "\n",
    "idx=cluster_map_df['data_index'][cluster_map_df.cluster == 2]\n",
    "idxgenes = []\n",
    "for row in idx:\n",
    "    idxgenes.append(row)\n",
    "idxgenes[:10]\n",
    "Cluster2=zdf.loc[zdf.index.isin(idxgenes)]\n",
    "print(np.mean(Cluster2['OVCAR3_A3_60_chr20_rank_deviation_in_rank']))"
   ]
  },
  {
   "cell_type": "code",
   "execution_count": null,
   "metadata": {},
   "outputs": [],
   "source": [
    "Cluster0df=pd.DataFrame(Cluster0)\n",
    "Cluster1df=pd.DataFrame(Cluster1)\n",
    "Cluster2df=pd.DataFrame(Cluster2)"
   ]
  },
  {
   "cell_type": "code",
   "execution_count": null,
   "metadata": {},
   "outputs": [],
   "source": [
    "#Cluster0df.to_csv('OVCAR3_CRISPRI_SCREEN_DESEQ2_Normalized_FDR.1SigRankChangeGenes_ZscoreRankChange_Cluster0_mix60.tsv', sep='\\t', index= True)\n",
    "#Cluster1df.to_csv('OVCAR3_CRISPRI_SCREEN_DESEQ2_Normalized_FDR.1SigRankChangeGenes_ZscoreRankChange_Cluster1_down60.tsv', sep='\\t', index= True)\n",
    "#Cluster2df.to_csv('OVCAR3_CRISPRI_SCREEN_DESEQ2_Normalized_FDR.1SigRankChangeGenes_ZscoreRankChange_Cluster2_up60.tsv', sep='\\t', index= True)"
   ]
  },
  {
   "cell_type": "code",
   "execution_count": null,
   "metadata": {},
   "outputs": [],
   "source": [
    "#read in existing data \n",
    "#Cluster0df = pd.read_csv('OVCAR3_CRISPRI_SCREEN_DESEQ2_Normalized_FDR.1SigRankChangeGenes_ZscoreRankChange_Cluster0_mix60.tsv', sep='\\t')\n",
    "#Cluster0df = Cluster0df.pivot_table(index='Gene')\n",
    "#Cluster1df = pd.read_csv('OVCAR3_CRISPRI_SCREEN_DESEQ2_Normalized_FDR.1SigRankChangeGenes_ZscoreRankChange_Cluster1_down60.tsv', sep ='\\t')\n",
    "#Cluster1df = Cluster1df.pivot_table(index='Gene')\n",
    "#Cluster2df = pd.read_csv('OVCAR3_CRISPRI_SCREEN_DESEQ2_Normalized_FDR.1SigRankChangeGenes_ZscoreRankChange_Cluster2_up60.tsv', sep ='\\t')\n",
    "#Cluster2df = Cluster2df.pivot_table(index='Gene')"
   ]
  },
  {
   "cell_type": "markdown",
   "metadata": {},
   "source": [
    "I want to plot down, up, then mixed clusters in that order "
   ]
  },
  {
   "cell_type": "code",
   "execution_count": null,
   "metadata": {},
   "outputs": [],
   "source": [
    "merged_df = pd.concat([Cluster1df, Cluster2df, Cluster0df])\n",
    "merged_df[:10]"
   ]
  },
  {
   "cell_type": "code",
   "execution_count": null,
   "metadata": {},
   "outputs": [],
   "source": [
    "#merged_df.to_csv('OVCAR3_CRISPRI_SCREEN_DESEQ2_Normalized_FDR.1SigRankChangeGenes_ZscoreRankChange_AllClust_downupmix60.tsv', sep='\\t', index= True)"
   ]
  },
  {
   "cell_type": "code",
   "execution_count": null,
   "metadata": {},
   "outputs": [],
   "source": [
    "mapoclutrank =sns.clustermap(merged_df,cmap='RdBu_r',z_score=0,robust=True, method= 'average', metric='euclidean', row_cluster=False, col_cluster=True,xticklabels = True,figsize=(20,10))\n",
    "matplotlib.pyplot.xticks(rotation=30)\n",
    "#matplotlib.pyplot.savefig('Rank_Heatmap_RankDownUP_FDR.1Set.kmeans3clusters_version2.pdf', bbox_inches = 'tight')\n",
    "matplotlib.pyplot.show()"
   ]
  },
  {
   "cell_type": "code",
   "execution_count": null,
   "metadata": {},
   "outputs": [],
   "source": [
    "#mapoclutrank.ax_heatmap.invert_xaxis()\n",
    "#mapoclutrank.ax_col_dendrogram.invert_xaxis()\n",
    "#mapoclutrank.fig"
   ]
  },
  {
   "cell_type": "code",
   "execution_count": null,
   "metadata": {},
   "outputs": [],
   "source": [
    "#this method gets scr1 and dorm1 near eachother, they are close via average/euclidean but the dendrogram plots from high to low, this also has identifiable clusters \n",
    "mapoclutrank =sns.clustermap(merged_df,cmap='RdBu_r',z_score=0,robust=True, method= 'complete', metric='correlation', row_cluster=False, col_cluster=True,xticklabels = True,figsize=(20,10))\n",
    "matplotlib.pyplot.xticks(rotation=30)\n",
    "#matplotlib.pyplot.savefig('Rank_Heatmap_RankDownUP_FDR.1Set.kmeans3clusters_complete_correlation.pdf', bbox_inches = 'tight')\n",
    "matplotlib.pyplot.show()\n"
   ]
  },
  {
   "cell_type": "markdown",
   "metadata": {},
   "source": [
    "# Investigate General Patterns"
   ]
  },
  {
   "cell_type": "markdown",
   "metadata": {},
   "source": [
    "I can now use this data to investigate general patterns and structures "
   ]
  },
  {
   "cell_type": "code",
   "execution_count": null,
   "metadata": {},
   "outputs": [],
   "source": [
    "No_dups_array = np.array(Overall_FDR_Passed_Sets_dt)\n",
    "No_dups_array"
   ]
  },
  {
   "cell_type": "code",
   "execution_count": null,
   "metadata": {},
   "outputs": [],
   "source": [
    "Cleaned_No_Dupe_Array = []\n",
    "for i in range(len(No_dups_array)):\n",
    "    filt=list(filter(None,No_dups_array[i]))\n",
    "    Cleaned_No_Dupe_Array.append(filt)"
   ]
  },
  {
   "cell_type": "code",
   "execution_count": null,
   "metadata": {},
   "outputs": [],
   "source": [
    "#pdCNA= pd.DataFrame(Cleaned_No_Dupe_Array)\n",
    "#pdCNA.to_csv('FDR.1_Screen_Results_Downgenes_everySE.tsv',sep='\\t')"
   ]
  },
  {
   "cell_type": "code",
   "execution_count": null,
   "metadata": {},
   "outputs": [],
   "source": [
    "lengthsofsets = []\n",
    "firsts = []\n",
    "for i in range(len(Cleaned_No_Dupe_Array)):\n",
    "    lengthsofsets.append(len(Cleaned_No_Dupe_Array[i]))\n",
    "    firsts.append(Cleaned_No_Dupe_Array[i][0])"
   ]
  },
  {
   "cell_type": "code",
   "execution_count": null,
   "metadata": {
    "scrolled": true
   },
   "outputs": [],
   "source": [
    "matplotlib.pyplot.figure(figsize=(25,25))\n",
    "\n",
    "\n",
    "objects = firsts\n",
    "y_pos = np.arange(len(objects))\n",
    "performance = lengthsofsets\n",
    "matplotlib.pyplot.barh(y_pos, performance, align='center', alpha=0.5)\n",
    "matplotlib.pyplot.yticks(y_pos, objects)\n",
    "matplotlib.pyplot.xlabel('Number of Genes Downranked')\n",
    "matplotlib.pyplot.title('Number of Genes Downranked per SE')\n",
    "#matplotlib.pyplot.savefig('Bar_Chart_Genes_Per_SE_FDR.1_DR.pdf', bbox_inches = 'tight')\n",
    "\n",
    "\n",
    "matplotlib.pyplot.show()"
   ]
  },
  {
   "cell_type": "code",
   "execution_count": null,
   "metadata": {},
   "outputs": [],
   "source": [
    "namesdt = pd.DataFrame(firsts)\n",
    "namesdt['nameofSE'] = firsts\n",
    "namesdt['num_down_genes'] = performance\n",
    "namesdt[:10]"
   ]
  },
  {
   "cell_type": "markdown",
   "metadata": {},
   "source": [
    "Create a DF for plotting purposes with names and downregulated genes "
   ]
  },
  {
   "cell_type": "code",
   "execution_count": null,
   "metadata": {},
   "outputs": [],
   "source": [
    "sortred_names_dt=namesdt.sort_values('num_down_genes')\n",
    "sortred_names_dt[:10]"
   ]
  },
  {
   "cell_type": "code",
   "execution_count": null,
   "metadata": {},
   "outputs": [],
   "source": [
    "matplotlib.pyplot.figure(figsize=(25,25))\n",
    "\n",
    "\n",
    "objects = sortred_names_dt['nameofSE']\n",
    "y_pos = np.arange(len(objects))\n",
    "performance = sortred_names_dt['num_down_genes']\n",
    "matplotlib.pyplot.barh(y_pos, performance, align='center', alpha=0.5)\n",
    "matplotlib.pyplot.yticks(y_pos, objects)\n",
    "matplotlib.pyplot.xlabel('Number of Genes Downranked')\n",
    "matplotlib.pyplot.title('Number of Genes Downranked per SE')\n",
    "#matplotlib.pyplot.savefig('Bar_Chart_Genes_Per_SE_FDR.1_DR_SORTED.pdf', bbox_inches = 'tight')\n",
    "\n",
    "\n",
    "matplotlib.pyplot.show()"
   ]
  },
  {
   "cell_type": "markdown",
   "metadata": {},
   "source": [
    "Read in the size information and construct the size and singnal dataframe "
   ]
  },
  {
   "cell_type": "code",
   "execution_count": null,
   "metadata": {},
   "outputs": [],
   "source": [
    "OVCAR_SE_SIZEDT=pd.read_csv(\"/Users/mkelly95/Documents/IGV/HG19/H3K27ac_Signal_over_BRD4_SuperEnhancers_TPM_1bpovlp.bed\", sep=\"\\t\",header = None)\n",
    "OVCAR_SE_SIZEDT[:10]"
   ]
  },
  {
   "cell_type": "code",
   "execution_count": null,
   "metadata": {},
   "outputs": [],
   "source": [
    "serankspots = []\n",
    "for i in range(len(OVTT)):\n",
    "    serankspots.append((str.split(OVTT[i][0],'_')[2],str.split(OVTT[i][0],'_')[3]))\n",
    "serankspots[:10]"
   ]
  },
  {
   "cell_type": "code",
   "execution_count": null,
   "metadata": {},
   "outputs": [],
   "source": [
    "sizesforchrscheck = []\n",
    "for i in range(len(OVCAR_SE_SIZEDT[0])):\n",
    "    size = OVCAR_SE_SIZEDT[2][i] - OVCAR_SE_SIZEDT[1][i]\n",
    "    sizesforchrscheck.append(size)\n",
    "sizesforchrscheck[:10]"
   ]
  },
  {
   "cell_type": "code",
   "execution_count": null,
   "metadata": {},
   "outputs": [],
   "source": [
    "stuffhelp = []\n",
    "for row in serankspots:\n",
    "    if len(row[0]) < 4 and row[0][0] != 'F':\n",
    "        stuffhelp.append(int(row[0]))    \n",
    "stuffhelp[:10]"
   ]
  },
  {
   "cell_type": "code",
   "execution_count": null,
   "metadata": {},
   "outputs": [],
   "source": [
    "sizegrab = []\n",
    "for row in stuffhelp:\n",
    "    i = row-1\n",
    "    sizegrab.append(sizesforchrscheck[i])\n",
    "sizegrab[:10]"
   ]
  },
  {
   "cell_type": "code",
   "execution_count": null,
   "metadata": {},
   "outputs": [],
   "source": [
    "plot_mat_names = []\n",
    "plot_mat_lengths = []\n",
    "plot_mat_numgenes = []\n",
    "plot_mat_rank = []\n",
    "for i in range(len(sortred_names_dt['nameofSE'])):\n",
    "    name = sortred_names_dt['nameofSE'][i]\n",
    "    numberofgenes = sortred_names_dt['num_down_genes'][i]\n",
    "    splitname = str.split(name,'_')\n",
    "    num = splitname[2]\n",
    "    for j in range(len(stuffhelp)):\n",
    "        if str(stuffhelp[j]) == num:\n",
    "            plot_mat_names.append(name)\n",
    "            plot_mat_lengths.append(int(sizegrab[j]))\n",
    "            plot_mat_numgenes.append(int(numberofgenes))\n",
    "            plot_mat_rank.append(stuffhelp[j])\n",
    "            #print(name, numberofgenes, stuffhelp[j],sizegrab[j])\n",
    "plottingdt = pd.DataFrame(plot_mat_names)\n",
    "plottingdt['names'] = plot_mat_names\n",
    "plottingdt['NumGenesDown'] = plot_mat_numgenes\n",
    "plottingdt['SELength'] = plot_mat_lengths\n",
    "plottingdt['SERank_H3K27ac'] = plot_mat_rank\n",
    "plottingdt[:10]"
   ]
  },
  {
   "cell_type": "code",
   "execution_count": null,
   "metadata": {},
   "outputs": [],
   "source": [
    "matplotlib.pyplot.figure(figsize=(25,25))\n",
    "\n",
    "\n",
    "objects = plottingdt['NumGenesDown']\n",
    "y_pos = np.arange(len(objects))\n",
    "performance = plottingdt['SERank_H3K27ac']\n",
    "matplotlib.pyplot.scatter(performance, objects, s=150)\n",
    "matplotlib.pyplot.xlabel('H3K27ac Rank of SE')\n",
    "matplotlib.pyplot.ylabel('Number of Genes')\n",
    "matplotlib.pyplot.title('H3K27ac Rank vs Counts')\n",
    "#matplotlib.pyplot.savefig('SE_rank_vs_Genes_FDR.1.pdf', bbox_inches = 'tight')\n",
    "matplotlib.pyplot.show()"
   ]
  },
  {
   "cell_type": "code",
   "execution_count": null,
   "metadata": {},
   "outputs": [],
   "source": [
    "matplotlib.pyplot.figure(figsize=(25,25))\n",
    "\n",
    "\n",
    "objects = plottingdt['NumGenesDown']\n",
    "y_pos = np.arange(len(objects))\n",
    "performance = plottingdt['SELength']\n",
    "matplotlib.pyplot.scatter(performance, objects, s=150)\n",
    "matplotlib.pyplot.xlabel('Size of SE (bp)')\n",
    "matplotlib.pyplot.ylabel('Number of Genes')\n",
    "matplotlib.pyplot.title('SE Size vs Counts')\n",
    "#matplotlib.pyplot.savefig('SE_Size_vs_Genes_FDR.1.pdf', bbox_inches = 'tight')\n",
    "matplotlib.pyplot.show()"
   ]
  },
  {
   "cell_type": "markdown",
   "metadata": {},
   "source": [
    "# Fold Change"
   ]
  },
  {
   "cell_type": "markdown",
   "metadata": {},
   "source": [
    "I now want to investigate the similarities between the Rank Change and Log Fold Change data; as we do not have replicate's we can't call DEGS with LFCs as we can't estimate the variation in the data. The list for DEGs will be the same as determined by the Rank Change analysis but the values will be LFCs, they will be calculated across the whole dataset similarly to how it was done with the rank changes. The starting dataset is a little different, instead of using the VST transformed DESEQ dataset I am starting with the raw counts data and performing the log2/fold change calculations on that. "
   ]
  },
  {
   "cell_type": "code",
   "execution_count": null,
   "metadata": {
    "scrolled": true
   },
   "outputs": [],
   "source": [
    "#read in the data and remove the two outlier samples we earlier removed in the DESEQ normalization for rank based analysis\n",
    "OVCAR_dt = pd.read_csv(\"OVCAR3_96_Well_Screen_LowExpressed_Genes_Removed.tsv\", sep=\"\\t\",header = 0)\n",
    "OVCAR_dt[:10]\n",
    "OVCAR_dt=OVCAR_dt.drop(axis =1, columns='OVCAR3_H7_61')\n",
    "OVCAR_dt=OVCAR_dt.drop(axis =1, columns='OVCAR3_F2_64')\n",
    "samplenames = []\n",
    "for val in OVCAR_dt.columns:\n",
    "    if val[0:3] == 'OVC':\n",
    "        samplenames.append(val)\n",
    "samplenames[:10]"
   ]
  },
  {
   "cell_type": "code",
   "execution_count": null,
   "metadata": {},
   "outputs": [],
   "source": [
    "#add 1, convert to tpm\n",
    "OVCAR2_dt=pd.read_csv(\"OVCAR3_96_Well_Screen_LowExpressed_Genes_Removed.tsv\", sep=\"\\t\",header = 0)\n",
    "OVCAR2_dt=OVCAR2_dt.drop(axis =1, columns='Gene')\n",
    "OVCAR2_dt=OVCAR2_dt.drop(axis =1, columns='OVCAR3_H7_61')\n",
    "OVCAR2_dt=OVCAR2_dt.drop(axis =1, columns='OVCAR3_F2_64')\n",
    "\n",
    "OVCAR2_dt = OVCAR2_dt+1\n",
    "for val in samplenames:\n",
    "    OVCAR2_dt[val] = OVCAR2_dt[val]/(np.sum(OVCAR2_dt[val]/1000000))\n",
    "#OVCAR2_dt = np.log2(OVCAR2_dt)\n",
    "OVCAR2_dt[:10]"
   ]
  },
  {
   "cell_type": "code",
   "execution_count": null,
   "metadata": {},
   "outputs": [],
   "source": [
    "for val in samplenames:\n",
    "    OVCAR_dt[val] = OVCAR2_dt[val]\n",
    "OVCAR_dt[:10]"
   ]
  },
  {
   "cell_type": "code",
   "execution_count": null,
   "metadata": {},
   "outputs": [],
   "source": [
    "#dorm and scramble \n",
    "#samplenames[0]\n",
    "#samplenames[67]"
   ]
  },
  {
   "cell_type": "code",
   "execution_count": null,
   "metadata": {},
   "outputs": [],
   "source": [
    "OVCAR_nozero = np.array(OVCAR_dt)"
   ]
  },
  {
   "cell_type": "code",
   "execution_count": null,
   "metadata": {},
   "outputs": [],
   "source": [
    "genemean = []\n",
    "for row in OVCAR_nozero[:,1:]:\n",
    "    means = np.median(row)\n",
    "    genemean.append(means)\n",
    "OVCAR_dt['Gene_Mean'] = genemean\n"
   ]
  },
  {
   "cell_type": "code",
   "execution_count": null,
   "metadata": {},
   "outputs": [],
   "source": [
    "#start after the mean is taken\n",
    "#need raw counts at start \n",
    "OVCAR_dt[1:10]"
   ]
  },
  {
   "cell_type": "code",
   "execution_count": null,
   "metadata": {},
   "outputs": [],
   "source": [
    "DevNames = []\n",
    "#Deviation_in_Rank =[]\n",
    "Deviation_in_Fold = []\n",
    "for val in samplenames:\n",
    "    geneset = [val]\n",
    "    newname = val+'_LFC'\n",
    "    DevNames.append(newname)\n",
    "    for i in range(len(OVCAR_dt[val])):\n",
    "        rank = OVCAR_dt[val][i]\n",
    "        sample = val\n",
    "        #median = DESEQ_dt['Median'][i]\n",
    "        true_rank = OVCAR_dt['Gene_Mean'][i]\n",
    "        gene = OVCAR_dt['Gene'][i]\n",
    "        dif = rank/true_rank\n",
    "        #genechrom = DESEQ_dt['Chromosomes'][i]\n",
    "        LFC_dif = np.log2(dif)\n",
    "        #OVCAR_dt[newname][i] = true_rank\n",
    "        Deviation_in_Fold.append([sample, gene, LFC_dif])"
   ]
  },
  {
   "cell_type": "code",
   "execution_count": null,
   "metadata": {
    "scrolled": true
   },
   "outputs": [],
   "source": [
    "for val in DevNames:\n",
    "    set_of_values = []\n",
    "    for i in range(len(Deviation_in_Fold)):\n",
    "        name = val.split('_')[:3]\n",
    "        name2 = Deviation_in_Fold[i][0].split('_')[:3]\n",
    "        vals = Deviation_in_Fold[i][2]\n",
    "        if name == name2:\n",
    "            set_of_values.append(vals)\n",
    "    OVCAR_dt[val] = set_of_values\n",
    "OVCAR_dt[:10]"
   ]
  },
  {
   "cell_type": "code",
   "execution_count": null,
   "metadata": {},
   "outputs": [],
   "source": [
    "LFC_only_dt=OVCAR_dt[OVCAR_dt.columns[96:]]\n",
    "LFC_only_dt['Gene'] = OVCAR_dt['Gene']\n",
    "LFC_only_dt[:10]"
   ]
  },
  {
   "cell_type": "code",
   "execution_count": null,
   "metadata": {},
   "outputs": [],
   "source": [
    "ControlNames = ['OVCAR3_H10_DORM_1_LFC','OVCAR3_G11_SCRAMBLE_1_LFC']"
   ]
  },
  {
   "cell_type": "code",
   "execution_count": null,
   "metadata": {},
   "outputs": [],
   "source": [
    "Dev_values_control = []\n",
    "maxes = []\n",
    "mins = []\n",
    "for name in ControlNames:\n",
    "    namevals = []\n",
    "    for i in range(len(OVCAR_dt[name])):\n",
    "        Dev_values_control.append(OVCAR_dt[name][i])\n",
    "        namevals.append(OVCAR_dt[name][i])\n",
    "    maxes.append(np.max(namevals))\n",
    "    mins.append(np.min(namevals))\n",
    "Dev_values_control[:3]\n",
    "Dev_values_only = []\n",
    "maxes = []\n",
    "mins = []\n",
    "for name in DevNames:\n",
    "    namevals = []\n",
    "    for i in range(len(OVCAR_dt[name])):\n",
    "        Dev_values_only.append(OVCAR_dt[name][i])\n",
    "        namevals.append(OVCAR_dt[name][i])\n",
    "    maxes.append(np.max(namevals))\n",
    "    mins.append(np.min(namevals))\n",
    "Dev_values_only[:3]"
   ]
  },
  {
   "cell_type": "code",
   "execution_count": null,
   "metadata": {},
   "outputs": [],
   "source": [
    "GenevalsDT = LFC_only_dt.loc[LFC_only_dt['Gene'].isin(nwsetsarrayupdown)]\n",
    "GenevalsDT=GenevalsDT.reset_index(drop='True')\n",
    "GenevalsDT.shape"
   ]
  },
  {
   "cell_type": "code",
   "execution_count": null,
   "metadata": {},
   "outputs": [],
   "source": [
    "JustLFCSdt=GenevalsDT\n",
    "LFC_Pivot=JustLFCSdt.pivot_table(index='Gene')"
   ]
  },
  {
   "cell_type": "markdown",
   "metadata": {},
   "source": [
    "Also make for Rank change "
   ]
  },
  {
   "cell_type": "code",
   "execution_count": null,
   "metadata": {},
   "outputs": [],
   "source": [
    "JustRanksdt=NEWDT_Rank[NEWDT_Rank.columns]\n",
    "JR_Pivot=NEWDT_Rank.pivot_table(index='Gene')"
   ]
  },
  {
   "cell_type": "markdown",
   "metadata": {},
   "source": [
    "Then I can calculate the correlation between the LFC/Rank Cahnge values for the genes in each super enhancer "
   ]
  },
  {
   "cell_type": "code",
   "execution_count": null,
   "metadata": {},
   "outputs": [],
   "source": [
    "names1 = JR_Pivot.columns\n",
    "names2= LFC_Pivot.columns\n",
    "Correlations_All_Cols = []\n",
    "for i in range(len(names1)):\n",
    "    corval = JR_Pivot[names1[i]].corr(LFC_Pivot[names2[i]])\n",
    "    Correlations_All_Cols.append(corval)\n"
   ]
  },
  {
   "cell_type": "markdown",
   "metadata": {},
   "source": [
    "This is the average correlation between LFC and RC"
   ]
  },
  {
   "cell_type": "code",
   "execution_count": null,
   "metadata": {},
   "outputs": [],
   "source": [
    "np.mean(Correlations_All_Cols)"
   ]
  },
  {
   "cell_type": "markdown",
   "metadata": {},
   "source": [
    "This is a plot of all correlation values, marked are the average (Blue), SE60 (black), and SE14 (Purple)"
   ]
  },
  {
   "cell_type": "code",
   "execution_count": null,
   "metadata": {},
   "outputs": [],
   "source": [
    "matplotlib.pyplot.scatter(x=Correlations_All_Cols, y=[1]*94, c=Correlations_All_Cols, cmap='Reds')\n",
    "#SE60\n",
    "matplotlib.pyplot.axvline(x=.8713, color='black')\n",
    "#SE14\n",
    "matplotlib.pyplot.axvline(x=.947, color='purple')\n",
    "#AVG\n",
    "matplotlib.pyplot.axvline(x=.79, color='blue')\n",
    "matplotlib.pyplot.xlabel('Correlation Between LFC and Rank Change for Sig Genes')\n",
    "#matplotlib.pyplot.xticks(ticks=Correlations_All_Cols, labels=LFC_only_dt.columns)\n",
    "#matplotlib.pyplot.savefig('Correlation_of_all_sig_Genes_RC_vs_LFC_Allmarked_bluemed_black60_pur14.pdf', bbox_inches = 'tight')"
   ]
  },
  {
   "cell_type": "markdown",
   "metadata": {},
   "source": [
    "I am next going to create a subset of this data where we just look at SE60's significant genes for plotting purposes"
   ]
  },
  {
   "cell_type": "code",
   "execution_count": null,
   "metadata": {},
   "outputs": [],
   "source": [
    "#for SE60 only plotting \n",
    "nwsetnwsetsarrayupdown = pd.read_csv('SE60_Genes_FDR.1_up_down_genes.txt',sep = '\\n')\n",
    "\n",
    "#forjustse60\n",
    "NEWDT_Rank60 = NEWDT.loc[Rank_DESEQ_DT['Gene'].isin(nwsetnwsetsarrayupdown['OVCAR3_A3_60_chr20_rank_deviation_in_rank'])]\n",
    "NEWDT_Rank60=NEWDT_Rank60.reset_index(drop='True')\n",
    "NEWDT_Rank60.shape\n",
    "\n",
    "GenevalsDT60 = GenevalsDT.loc[GenevalsDT['Gene'].isin(nwsetnwsetsarrayupdown['OVCAR3_A3_60_chr20_rank_deviation_in_rank'])]\n",
    "GenevalsDT60=GenevalsDT60.reset_index(drop='True')\n",
    "GenevalsDT60.shape\n",
    "\n"
   ]
  },
  {
   "cell_type": "code",
   "execution_count": null,
   "metadata": {},
   "outputs": [],
   "source": [
    "JRC60 =NEWDT_Rank60.pivot_table(index='Gene')\n",
    "LFCC60 = GenevalsDT60.pivot_table(index='Gene')"
   ]
  },
  {
   "cell_type": "markdown",
   "metadata": {},
   "source": [
    "I can next plot, for every super-enhancer, or in this case SE60 then SE14 the Rank Change (X axis) vs the LFC (Y axis) for every gene determined as significant by the FDR .1 approach in any SE"
   ]
  },
  {
   "cell_type": "code",
   "execution_count": null,
   "metadata": {},
   "outputs": [],
   "source": [
    "#SE60\n",
    "#all genes corr = 0.88 \n",
    "#just SE genes sig corr = 0.94 \n",
    "matplotlib.pyplot.scatter(x=JR_Pivot['OVCAR3_A3_60_chr20_rank_deviation_in_rank'],y=LFC_Pivot['OVCAR3_A3_60_LFC'])\n",
    "#matplotlib.pyplot.savefig('Correlation_of_all_sig_Genes_RC_vs_LFC_SE60.pdf', bbox_inches = 'tight')"
   ]
  },
  {
   "cell_type": "code",
   "execution_count": null,
   "metadata": {},
   "outputs": [],
   "source": [
    "#SE14\n",
    "matplotlib.pyplot.scatter(x=JR_Pivot['OVCAR3_D7_14_chr1_rank_deviation_in_rank'],y=LFC_Pivot['OVCAR3_D7_14_LFC'])\n",
    "#matplotlib.pyplot.savefig('Correlation_of_all_sig_Genes_RC_vs_LFC_SE14.pdf', bbox_inches = 'tight')"
   ]
  },
  {
   "cell_type": "markdown",
   "metadata": {},
   "source": [
    "This plot shows all FDR .1 genes from all samples in blue and the SE60 FDR genes in red, with the values being Rank Change (X axis) and LFC change (Y axis) for SE60"
   ]
  },
  {
   "cell_type": "code",
   "execution_count": null,
   "metadata": {},
   "outputs": [],
   "source": [
    "ax = matplotlib.pyplot.gca()\n",
    "\n",
    "\n",
    "ax.scatter(x=JR_Pivot['OVCAR3_A3_60_chr20_rank_deviation_in_rank'],y=LFC_Pivot['OVCAR3_A3_60_LFC'], color=\"b\")\n",
    "\n",
    "ax.scatter(x=JRC60['OVCAR3_A3_60_chr20_rank_deviation_in_rank'],y=LFCC60['OVCAR3_A3_60_LFC'], color=\"r\")\n",
    "\n",
    "#matplotlib.pyplot.savefig('Correlation_of_sig_Genes_RC_vs_LFC_SE60_allgenesblue_se60onlyred.pdf', bbox_inches = 'tight')\n"
   ]
  },
  {
   "cell_type": "code",
   "execution_count": null,
   "metadata": {},
   "outputs": [],
   "source": [
    "#read it in \n",
    "#GenevalsDT = pd.read_csv('OVCAR3_CRISPRI_SCREEN_DESEQ2_Normalized_FDR.1SigRankChangeGenes_LFC_Values_95cols_medianallsamples.tsv', sep ='\\t')"
   ]
  },
  {
   "cell_type": "code",
   "execution_count": null,
   "metadata": {},
   "outputs": [],
   "source": [
    "combodf = pd.concat([JR_Pivot,LFC_Pivot],axis=1)\n",
    "combodf[:10]"
   ]
  },
  {
   "cell_type": "markdown",
   "metadata": {},
   "source": [
    "This html file contains the correlation of all RC to RC and LFC values, the main takeaway is that for every sample the highest correlation is between the RC and LFC values for that same SE."
   ]
  },
  {
   "cell_type": "code",
   "execution_count": null,
   "metadata": {},
   "outputs": [],
   "source": [
    "corrtype = combodf.corr()\n",
    "corrtype.style.background_gradient(cmap='coolwarm').set_precision(2)"
   ]
  },
  {
   "cell_type": "code",
   "execution_count": null,
   "metadata": {},
   "outputs": [],
   "source": [
    "htmlname =corrtype.style.background_gradient(cmap='coolwarm').set_precision(2).render()\n"
   ]
  },
  {
   "cell_type": "code",
   "execution_count": null,
   "metadata": {},
   "outputs": [],
   "source": [
    "#html_file = open(\"FDR.1GenesRCvsLFC_Corrs.html\",\"w\")\n",
    "#html_file.write(htmlname)\n",
    "#html_file.close()"
   ]
  },
  {
   "cell_type": "code",
   "execution_count": null,
   "metadata": {},
   "outputs": [],
   "source": [
    "from scipy.spatial import distance\n",
    "from scipy.cluster import hierarchy\n",
    "\n",
    "correlations = combodf.corr()\n",
    "correlations_array = np.asarray(combodf.corr())\n",
    "\n",
    "row_linkage = hierarchy.linkage(\n",
    "    distance.pdist(correlations_array), method='average')\n",
    "\n",
    "col_linkage = hierarchy.linkage(\n",
    "    distance.pdist(correlations_array.T), method='average')\n",
    "\n",
    "sns.clustermap(correlations, row_linkage=row_linkage, col_linkage=col_linkage, method=\"average\", figsize=(20, 20))"
   ]
  },
  {
   "cell_type": "code",
   "execution_count": null,
   "metadata": {},
   "outputs": [],
   "source": [
    "ranksonlynamesheatmap=[]\n",
    "for name in correlations.columns:\n",
    "    if 'rank_deviation_in_rank' in name:\n",
    "        ranksonlynamesheatmap.append(name)"
   ]
  },
  {
   "cell_type": "code",
   "execution_count": null,
   "metadata": {},
   "outputs": [],
   "source": [
    "#correlations[94:][ranksonlynamesheatmap]"
   ]
  },
  {
   "cell_type": "code",
   "execution_count": null,
   "metadata": {},
   "outputs": [],
   "source": [
    "datplot=sns.clustermap(correlations[94:][ranksonlynamesheatmap],cmap='coolwarm', figsize=(20, 20))"
   ]
  },
  {
   "cell_type": "code",
   "execution_count": null,
   "metadata": {},
   "outputs": [],
   "source": [
    "datplot=sns.clustermap(correlations[94:][ranksonlynamesheatmap],row_cluster=False,col_cluster=False,cmap='coolwarm', figsize=(20, 20))\n",
    "#matplotlib.pyplot.savefig('LFC_VS_RC_Corrplot_UnClustered.pdf')"
   ]
  },
  {
   "cell_type": "code",
   "execution_count": null,
   "metadata": {},
   "outputs": [],
   "source": []
  }
 ],
 "metadata": {
  "kernelspec": {
   "display_name": "Python 3",
   "language": "python",
   "name": "python3"
  },
  "language_info": {
   "codemirror_mode": {
    "name": "ipython",
    "version": 3
   },
   "file_extension": ".py",
   "mimetype": "text/x-python",
   "name": "python",
   "nbconvert_exporter": "python",
   "pygments_lexer": "ipython3",
   "version": "3.6.4"
  }
 },
 "nbformat": 4,
 "nbformat_minor": 2
}
