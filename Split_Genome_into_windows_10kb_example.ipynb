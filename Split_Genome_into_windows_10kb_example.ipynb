{
 "cells": [
  {
   "cell_type": "code",
   "execution_count": null,
   "metadata": {},
   "outputs": [],
   "source": [
    "import numpy as np\n",
    "import pandas as pd\n"
   ]
  },
  {
   "cell_type": "markdown",
   "metadata": {},
   "source": [
    "First I created chrom.sizes.txt from https://github.com/igvteam/igv/blob/master/genomes/sizes/hg19.chrom.sizes\n",
    "\n",
    "UNIX: \n",
    "head chrom.sizes.txt \n",
    "chr1\t249250621\n",
    "chr2\t243199373\n",
    "chr3\t198022430\n",
    "chr4\t191154276\n",
    "chr5\t180915260\n",
    "chr6\t171115067\n",
    "chr7\t159138663\n",
    "chr8\t146364022\n",
    "chr9\t141213431\n",
    "chr10\t135534747\n"
   ]
  },
  {
   "cell_type": "markdown",
   "metadata": {},
   "source": [
    "# Example making 10KB sliding windows "
   ]
  },
  {
   "cell_type": "code",
   "execution_count": null,
   "metadata": {},
   "outputs": [],
   "source": [
    "chrom_sizes_set=pd.read_csv('chrom.sizes.txt', sep='\\t', header=None)"
   ]
  },
  {
   "cell_type": "code",
   "execution_count": null,
   "metadata": {},
   "outputs": [],
   "source": [
    "#only focus on chromsomes 1-22\n",
    "newset=chrom_sizes_set[:22]\n",
    "newset"
   ]
  },
  {
   "cell_type": "code",
   "execution_count": null,
   "metadata": {},
   "outputs": [],
   "source": [
    "chrom_sizes_array = np.array(newset)"
   ]
  },
  {
   "cell_type": "code",
   "execution_count": null,
   "metadata": {},
   "outputs": [],
   "source": [
    "chrom_sizes_array"
   ]
  },
  {
   "cell_type": "code",
   "execution_count": null,
   "metadata": {},
   "outputs": [],
   "source": [
    "chrom_sizes_array[0,1]"
   ]
  },
  {
   "cell_type": "code",
   "execution_count": null,
   "metadata": {},
   "outputs": [],
   "source": [
    "chr1set = []\n",
    "for i in range(chrom_sizes_array[0,1])[::10000]:\n",
    "    start = i+1\n",
    "    stop = i+10000\n",
    "    chr1set.append('chr1'+'_'+str(start)+'_'+str(stop))\n",
    "    \n",
    "    print(i,start,stop)  \n",
    "    "
   ]
  },
  {
   "cell_type": "code",
   "execution_count": null,
   "metadata": {},
   "outputs": [],
   "source": [
    "len(chr1set)"
   ]
  },
  {
   "cell_type": "code",
   "execution_count": null,
   "metadata": {},
   "outputs": [],
   "source": [
    "for j in chrom_sizes_array[:]:\n",
    "    print(j[0],j[1])"
   ]
  },
  {
   "cell_type": "code",
   "execution_count": null,
   "metadata": {},
   "outputs": [],
   "source": [
    "chr_set = []\n",
    "chro = []\n",
    "strt = []\n",
    "stp = []\n",
    "for j in chrom_sizes_array[:]:\n",
    "    chrom =j[0] \n",
    "    length = j[1]\n",
    "    for i in range(length)[::10000]:\n",
    "        start = i+1\n",
    "        stop = i+10000\n",
    "        chr_set.append(chrom+'_'+str(start)+'_'+str(stop))\n",
    "        chro.append(chrom)\n",
    "        strt.append(start)\n",
    "        stp.append(stop)\n",
    "        \n",
    "        print(chrom,i,start,stop)  \n",
    "    "
   ]
  },
  {
   "cell_type": "code",
   "execution_count": null,
   "metadata": {},
   "outputs": [],
   "source": [
    "len(chr_set)\n"
   ]
  },
  {
   "cell_type": "code",
   "execution_count": null,
   "metadata": {},
   "outputs": [],
   "source": [
    "chr_set_df = pd.DataFrame(chr_set)\n",
    "chr_set_df['chromosome'] = chro\n",
    "chr_set_df['start'] = strt\n",
    "chr_set_df['stop'] = stp"
   ]
  },
  {
   "cell_type": "code",
   "execution_count": null,
   "metadata": {},
   "outputs": [],
   "source": [
    "chr_set_df.columns = ['chrom_start_stop','chromosome','start','stop']"
   ]
  },
  {
   "cell_type": "code",
   "execution_count": null,
   "metadata": {},
   "outputs": [],
   "source": [
    "chr_set_df"
   ]
  },
  {
   "cell_type": "code",
   "execution_count": null,
   "metadata": {},
   "outputs": [],
   "source": [
    "chr_set_df.to_csv('Full_Genome_10kb_Sliding_Windows_hg19.txt', index=False, sep='\\t')"
   ]
  },
  {
   "cell_type": "code",
   "execution_count": null,
   "metadata": {},
   "outputs": [],
   "source": []
  }
 ],
 "metadata": {
  "kernelspec": {
   "display_name": "Python 3",
   "language": "python",
   "name": "python3"
  },
  "language_info": {
   "codemirror_mode": {
    "name": "ipython",
    "version": 3
   },
   "file_extension": ".py",
   "mimetype": "text/x-python",
   "name": "python",
   "nbconvert_exporter": "python",
   "pygments_lexer": "ipython3",
   "version": "3.6.4"
  }
 },
 "nbformat": 4,
 "nbformat_minor": 2
}
